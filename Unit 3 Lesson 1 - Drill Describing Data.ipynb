{
 "cells": [
  {
   "cell_type": "markdown",
   "metadata": {},
   "source": [
    "RESULTS CALCULATED BY HAND:\n",
    "\n",
    "1.  Greg was 14, Marcia was 12, Peter was 11, Jan was 10, Bobby was 8, and Cindy was 6 when they started playing the Brady kids on The Brady Bunch. Cousin Oliver was 8 years old when he joined the show. What are the mean, median, and mode of the kids' ages when they first appeared on the show? What are the variance, standard deviation, and standard error?\n",
    "\n",
    "I will treat these kids as a sample of the potential pool of children that could have been selected for the parts.\n",
    "\n",
    "Mean = 9.86\n",
    "Median = 10\n",
    "Mode = 8\n",
    "Variance = 7.48 (@n-1 for sample variance)\n",
    "Standard Deviation = 2.73 (@n-1 for sample Std dev)\n",
    "Standard Error = 1.03\n",
    "\n",
    "2.  Using these estimates, if you had to choose only one estimate of central tendency and one estimate of variance to describe the data, which would you pick and why?\n",
    "\n",
    "I would choose the mean and the standard error to estimate the likely age of the population of kids chosen.  Results are that the mean age of the population is likely between the ages of 8.8 years old and 10.9 years old.\n",
    "\n",
    "3.  Next, Cindy has a birthday. Update your estimates- what changed, and what didn't?\n",
    "\n",
    "Mean = 10\n",
    "Median = 10\n",
    "Mode = NA\n",
    "Variance = 7 (@n-1 for sample variance)\n",
    "Standard Deviation = 2.65 (@n-1 for sample Std dev)\n",
    "Standard Error = 1\n",
    "\n",
    "Very little changed.  Only slight differences in mean, variance, standard deviation, and standard error.  Median remained unchanged and there is no longer a mode of the data. The potential mean age of the population of kids chosen is now 9 years old to 11 years old.\n",
    "\n",
    "4.  Nobody likes Cousin Oliver. Maybe the network should have used an even younger actor. Replace Cousin Oliver with 1-year-old Jessica, then recalculate again. Does this change your choice of central tendency or variance estimation methods?\n",
    "\n",
    "Mean = 9\n",
    "Median = 10\n",
    "Mode = NA\n",
    "Variance = 18.67 (@n-1 for sample variance)\n",
    "Standard Deviation = 4.32 (@n-1 for sample Std dev)\n",
    "Standard Error = 1.63\n",
    "\n",
    "Range of mean ages shifted to 7.4 years old to 10.6 years old.  \n",
    "\n",
    "5.  On the 50th anniversary of The Brady Bunch, four different magazines asked their readers whether they were fans of the show. The answers were: TV Guide 20% fans Entertainment Weekly 23% fans Pop Culture Today 17% fans SciPhi Phanatic 5% fans\n",
    "\n",
    "    Based on these numbers, what percentage of adult Americans would you estimate were Brady Bunch fans on the 50th anniversary of the show?\n",
    "    \n",
    "12% to 20% of adult Americans were likely Brady Bunch fans on the 50th anniversary of the show.\n"
   ]
  },
  {
   "cell_type": "markdown",
   "metadata": {},
   "source": [
    "RESULTS CALCULATED IN PYTHON"
   ]
  },
  {
   "cell_type": "code",
   "execution_count": 1,
   "metadata": {},
   "outputs": [],
   "source": [
    "import numpy as np\n",
    "import pandas as pd"
   ]
  },
  {
   "cell_type": "code",
   "execution_count": 2,
   "metadata": {},
   "outputs": [
    {
     "name": "stdout",
     "output_type": "stream",
     "text": [
      "        Age\n",
      "Greg     14\n",
      "Marcia   12\n",
      "Peter    11\n",
      "Jan      10\n",
      "Bobby     8\n",
      "Cindy     6\n",
      "Oliver    8\n"
     ]
    }
   ],
   "source": [
    "#create original DataFrame \n",
    "BradyKids = pd.DataFrame([14, 12, 11, 10, 8, 6, 8])\n",
    "#rename column and rows\n",
    "BradyKids.columns = ['Age']\n",
    "BradyKids.index = ['Greg', 'Marcia', 'Peter', 'Jan', 'Bobby', 'Cindy', 'Oliver']\n",
    "print(BradyKids)"
   ]
  },
  {
   "cell_type": "code",
   "execution_count": 3,
   "metadata": {},
   "outputs": [],
   "source": [
    "#Add a new column with modified ages\n",
    "BradyKids['After Birthday'] = [14, 12, 11, 10, 9, 6, 8]\n",
    "BradyKids['Replace Oliver'] = [14, 12, 11, 10, 9, 6, 1]\n",
    "#print(BradyKids)\n",
    "\n",
    "#get mean, median, mode, variation, standard deviation, and standard error\n",
    "#put results into a DataFrame for easy viewing\n",
    "results = pd.DataFrame()\n",
    "results['Means'] = BradyKids.mean()\n",
    "results['Medians'] = BradyKids.median()\n",
    "results['Variance'] = BradyKids.var(ddof=1)\n",
    "results['Std Dev'] = BradyKids.std(ddof=1)\n",
    "results['Std Error'] = BradyKids.std(ddof=1)/np.sqrt(BradyKids.count())  "
   ]
  },
  {
   "cell_type": "markdown",
   "metadata": {},
   "source": [
    "Modes are tricky to put into a dataframe as there can be more than one or none at all, though I know this data set is simple and I can easily see there is only one mode in the first column and none in the other two, it would be better to figure out a way to have python handle any data set with unknown modes.\n",
    "For now I simply printed them seperately."
   ]
  },
  {
   "cell_type": "code",
   "execution_count": 4,
   "metadata": {},
   "outputs": [
    {
     "name": "stdout",
     "output_type": "stream",
     "text": [
      "                 Age  After Birthday  Replace Oliver\n",
      "Means       9.857143       10.000000        9.000000\n",
      "Medians    10.000000       10.000000       10.000000\n",
      "Variance    7.476190        7.000000       18.666667\n",
      "Std Dev     2.734262        2.645751        4.320494\n",
      "Std Error   1.033454        1.000000        1.632993\n"
     ]
    },
    {
     "data": {
      "text/html": [
       "<div>\n",
       "<style scoped>\n",
       "    .dataframe tbody tr th:only-of-type {\n",
       "        vertical-align: middle;\n",
       "    }\n",
       "\n",
       "    .dataframe tbody tr th {\n",
       "        vertical-align: top;\n",
       "    }\n",
       "\n",
       "    .dataframe thead th {\n",
       "        text-align: right;\n",
       "    }\n",
       "</style>\n",
       "<table border=\"1\" class=\"dataframe\">\n",
       "  <thead>\n",
       "    <tr style=\"text-align: right;\">\n",
       "      <th></th>\n",
       "      <th>Age</th>\n",
       "      <th>After Birthday</th>\n",
       "      <th>Replace Oliver</th>\n",
       "    </tr>\n",
       "  </thead>\n",
       "  <tbody>\n",
       "    <tr>\n",
       "      <th>0</th>\n",
       "      <td>8.0</td>\n",
       "      <td>6</td>\n",
       "      <td>1</td>\n",
       "    </tr>\n",
       "    <tr>\n",
       "      <th>1</th>\n",
       "      <td>NaN</td>\n",
       "      <td>8</td>\n",
       "      <td>6</td>\n",
       "    </tr>\n",
       "    <tr>\n",
       "      <th>2</th>\n",
       "      <td>NaN</td>\n",
       "      <td>9</td>\n",
       "      <td>9</td>\n",
       "    </tr>\n",
       "    <tr>\n",
       "      <th>3</th>\n",
       "      <td>NaN</td>\n",
       "      <td>10</td>\n",
       "      <td>10</td>\n",
       "    </tr>\n",
       "    <tr>\n",
       "      <th>4</th>\n",
       "      <td>NaN</td>\n",
       "      <td>11</td>\n",
       "      <td>11</td>\n",
       "    </tr>\n",
       "    <tr>\n",
       "      <th>5</th>\n",
       "      <td>NaN</td>\n",
       "      <td>12</td>\n",
       "      <td>12</td>\n",
       "    </tr>\n",
       "    <tr>\n",
       "      <th>6</th>\n",
       "      <td>NaN</td>\n",
       "      <td>14</td>\n",
       "      <td>14</td>\n",
       "    </tr>\n",
       "  </tbody>\n",
       "</table>\n",
       "</div>"
      ],
      "text/plain": [
       "   Age  After Birthday  Replace Oliver\n",
       "0  8.0               6               1\n",
       "1  NaN               8               6\n",
       "2  NaN               9               9\n",
       "3  NaN              10              10\n",
       "4  NaN              11              11\n",
       "5  NaN              12              12\n",
       "6  NaN              14              14"
      ]
     },
     "execution_count": 4,
     "metadata": {},
     "output_type": "execute_result"
    }
   ],
   "source": [
    "print(results.transpose())\n",
    "BradyKids.mode()"
   ]
  },
  {
   "cell_type": "code",
   "execution_count": 5,
   "metadata": {},
   "outputs": [
    {
     "name": "stdout",
     "output_type": "stream",
     "text": [
      "                     Age  After Birthday  Replace Oliver\n",
      "Means           9.857143       10.000000        9.000000\n",
      "Medians        10.000000       10.000000       10.000000\n",
      "Variance        7.476190        7.000000       18.666667\n",
      "Std Dev         2.734262        2.645751        4.320494\n",
      "Std Error       1.033454        1.000000        1.632993\n",
      "Low-estimate    8.823689        9.000000        7.367007\n",
      "High-estimate  10.890597       11.000000       10.632993\n"
     ]
    },
    {
     "data": {
      "text/html": [
       "<div>\n",
       "<style scoped>\n",
       "    .dataframe tbody tr th:only-of-type {\n",
       "        vertical-align: middle;\n",
       "    }\n",
       "\n",
       "    .dataframe tbody tr th {\n",
       "        vertical-align: top;\n",
       "    }\n",
       "\n",
       "    .dataframe thead th {\n",
       "        text-align: right;\n",
       "    }\n",
       "</style>\n",
       "<table border=\"1\" class=\"dataframe\">\n",
       "  <thead>\n",
       "    <tr style=\"text-align: right;\">\n",
       "      <th></th>\n",
       "      <th>Age</th>\n",
       "      <th>After Birthday</th>\n",
       "      <th>Replace Oliver</th>\n",
       "    </tr>\n",
       "  </thead>\n",
       "  <tbody>\n",
       "    <tr>\n",
       "      <th>0</th>\n",
       "      <td>8.0</td>\n",
       "      <td>6</td>\n",
       "      <td>1</td>\n",
       "    </tr>\n",
       "    <tr>\n",
       "      <th>1</th>\n",
       "      <td>NaN</td>\n",
       "      <td>8</td>\n",
       "      <td>6</td>\n",
       "    </tr>\n",
       "    <tr>\n",
       "      <th>2</th>\n",
       "      <td>NaN</td>\n",
       "      <td>9</td>\n",
       "      <td>9</td>\n",
       "    </tr>\n",
       "    <tr>\n",
       "      <th>3</th>\n",
       "      <td>NaN</td>\n",
       "      <td>10</td>\n",
       "      <td>10</td>\n",
       "    </tr>\n",
       "    <tr>\n",
       "      <th>4</th>\n",
       "      <td>NaN</td>\n",
       "      <td>11</td>\n",
       "      <td>11</td>\n",
       "    </tr>\n",
       "    <tr>\n",
       "      <th>5</th>\n",
       "      <td>NaN</td>\n",
       "      <td>12</td>\n",
       "      <td>12</td>\n",
       "    </tr>\n",
       "    <tr>\n",
       "      <th>6</th>\n",
       "      <td>NaN</td>\n",
       "      <td>14</td>\n",
       "      <td>14</td>\n",
       "    </tr>\n",
       "  </tbody>\n",
       "</table>\n",
       "</div>"
      ],
      "text/plain": [
       "   Age  After Birthday  Replace Oliver\n",
       "0  8.0               6               1\n",
       "1  NaN               8               6\n",
       "2  NaN               9               9\n",
       "3  NaN              10              10\n",
       "4  NaN              11              11\n",
       "5  NaN              12              12\n",
       "6  NaN              14              14"
      ]
     },
     "execution_count": 5,
     "metadata": {},
     "output_type": "execute_result"
    }
   ],
   "source": [
    "#add additional columns with mean +/- std error for estimated population values\n",
    "results['Low-estimate'] = results['Means'] - results['Std Error']\n",
    "results['High-estimate'] = results['Means'] + results['Std Error']\n",
    "\n",
    "print(results.transpose())\n",
    "BradyKids.mode()"
   ]
  },
  {
   "cell_type": "code",
   "execution_count": null,
   "metadata": {},
   "outputs": [],
   "source": []
  }
 ],
 "metadata": {
  "kernelspec": {
   "display_name": "Python 3",
   "language": "python",
   "name": "python3"
  },
  "language_info": {
   "codemirror_mode": {
    "name": "ipython",
    "version": 3
   },
   "file_extension": ".py",
   "mimetype": "text/x-python",
   "name": "python",
   "nbconvert_exporter": "python",
   "pygments_lexer": "ipython3",
   "version": "3.6.5"
  }
 },
 "nbformat": 4,
 "nbformat_minor": 2
}
